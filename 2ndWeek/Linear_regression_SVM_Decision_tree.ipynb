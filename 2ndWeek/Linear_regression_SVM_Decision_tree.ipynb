{
  "nbformat": 4,
  "nbformat_minor": 0,
  "metadata": {
    "accelerator": "TPU",
    "colab": {
      "name": "HELLO AIRIS - AI training by GE - Linear regression, SVM, Decision tree",
      "provenance": [],
      "collapsed_sections": [],
      "toc_visible": true
    },
    "kernelspec": {
      "display_name": "Python 3",
      "name": "python3"
    }
  },
  "cells": [
    {
      "cell_type": "markdown",
      "metadata": {
        "id": "edfbxDDh2AEs"
      },
      "source": [
        "## Overview"
      ]
    },
    {
      "cell_type": "markdown",
      "metadata": {
        "id": "7Tms3vJi79nc"
      },
      "source": [
        "This colaboratoy page contains the learning material for the HelloAIRIS online AI training program. These modules are designed to introduce participants to the basics of Machine Learning and AI.\n",
        "\n",
        "*The materials here were created by members of GE Healthcare.*"
      ]
    },
    {
      "cell_type": "markdown",
      "metadata": {
        "id": "_4oNO9jV8pTh"
      },
      "source": [
        "## Using Colaboratory\n",
        "\n",
        "Colaboratory, or \"Colab\" for short is an excellent tool to write and execute Python code in your browser with all the basic tools required for Machine Learning and AI already installed. When writing or running codes in this Colab page, you don't have to worry about installing anything on your computer.\n",
        "\n",
        "The basic usage you need to know to use this material:\n",
        "\n",
        "\n",
        "*   There are text and code cells, you can execute codes written in code cells. To execute a cell, click the play button, or type Ctrl+Enter on your keyboard.\n",
        "*   If a variable is defined in one cell, it will be visible to the later cells. Because of this you should run all the cells in a submodule of this learning material in order not to run into error.\n",
        "*   If a cell is taking too long time to finish you can interrupt its execution by selecting Runtime->Interrupt execution\n",
        "\n",
        "If you are curious about the details, check out [Overview of Colab](https://colab.research.google.com/notebooks/basic_features_overview.ipynb) or watch [Introduction to Colab](https://www.youtube.com/watch?v=inN8seMm7UI).\n",
        "\n"
      ]
    },
    {
      "cell_type": "markdown",
      "metadata": {
        "id": "RNo1Vfghpa8j"
      },
      "source": [
        "# Introduction\n",
        "\n",
        "This module will focus on the fundamentals of machine learning and neural networks. This will help you to understand the components and problems of modeling in machine learning.\n",
        "So here we will explain what, an easy to understand part of Machine Learning - the supervised modeling - , is about. We will introduce the simplest predictor, the Linear regression model. We gradually increase the complexity of this model with a non-linearity, so as to get the so called \"Logistic Regression\" model. Understanding Logistic Regression is essential, since this is the elementary building block of Artificial Neural Networks. (introduced in the next section). Finally, will talk about a bit of Linear Support Vector Machines in order to see a model definition which is not rooted in regression modeling and will introduce a notion of margins.\n",
        "\n",
        "\n"
      ]
    },
    {
      "cell_type": "markdown",
      "metadata": {
        "id": "jdcc_GdGA_QQ"
      },
      "source": [
        "# Machine Learning\n",
        "\n",
        "Machine learning (ML) is the study of computer algorithms that improve automatically through experience. (wiki).\n",
        "Function approximation is trying to find a function that matches closely to the unknown target function, using observed samples or examples.\n",
        "\n",
        "Let’s say that we have data set of sick and non-sick patients. Each has a set of characteristics such as body temperature, blood pressure, etc."
      ]
    },
    {
      "cell_type": "markdown",
      "metadata": {
        "id": "wxSeBmu6VFWt"
      },
      "source": [
        "| Body temperature  |  Blood pressure   |  Sickness  |\n",
        "|-|||\n",
        "| 38                |  130              |   Healthy  |\n",
        "| 37.5              |  110              |   Sick     |\n",
        "| 35.5              |  130              |   Healthy  |\n",
        "| 36.5              |  110              |   Sick     |"
      ]
    },
    {
      "cell_type": "markdown",
      "metadata": {
        "id": "VeDcE0GeV6Zn"
      },
      "source": [
        "The function we are to find is as such\n",
        "\n",
        "sickness = f( Body temperature, Blood pressure )\n",
        "\n",
        "We want this function\n",
        "- to return what this table consists.\n",
        "- to do interpolation in between these points\n",
        "- maybe do extrapolation as well\n",
        "\n",
        "So we have the hypothesis that there exists an ideal function as such, which, we want to approximate with function f.\n",
        "\n",
        "The way we approximate is defined by the chosen model.\n",
        "In the next sections we are going to introduce Linear regression just for the sake understanding the problems in Artificial Neural Networks, and Support Vector Machines.\n"
      ]
    },
    {
      "cell_type": "markdown",
      "metadata": {
        "id": "nm_blMkmA2Lt"
      },
      "source": [
        "# Linear Regression"
      ]
    },
    {
      "cell_type": "markdown",
      "metadata": {
        "id": "dJVUJQ2ZBB2e"
      },
      "source": [
        "The simplest model we can think of as realization of the searched function f is a linear regression.\n",
        "Linear regression uses a linear model to define the function approximator as this\n",
        "\n",
        "  $$f(x) = w x + b$$\n",
        "\n",
        "\n",
        "However the model can be higher dimensional as well like this\n",
        "\n",
        "   $$ f(x) = \\sum_i w_i x_i + b $$  \n",
        "\n",
        "where\n",
        "\n",
        "   $$ i \\in \\left\\{1, dimensions \\right\\}$$\n",
        "\n",
        "This is doing weighted sum of input vector elements plus add a constant to get the output.\n",
        "\n",
        "In this section we are going to understand how to find the parameters $w$ and $b$.\n",
        "\n",
        "Although nobody calculates this manually, the understanding of the aspects of this is essential since most of the supervised methods, including Logistic regression and Artificial Neural Networks and Support Vector Machine, are relying on linear regression principle in some form.\n",
        "\n",
        "\n",
        "How to compute $w$ and $b$?\n",
        "\n",
        "We are given set of input-ouput sample pairs:\n",
        "\n",
        "$$ D = \\left\\{ (x_1, y_1), (x_2, y_2), …, (x_M, y_M)\\right\\} $$\n",
        " \n",
        "We define a loss function that sums the difference between the predicted output (y) for a given input (x) and the expected output for all of the these pairs.\n",
        "\n",
        "$$ r_i = f(x_i; w) - y_i$$\n",
        "\n",
        "![image.png](data:image/png;base64,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)\n",
        "\n",
        "By summing the square of the errors, we equally penalize the positive and negative errors and larger the error is the more we ban the model:\n",
        "$$ L(w) = \\sum_i r_i^2 $$\n",
        "\n",
        "![](https://docs.google.com/uc?export=download&id=1qhC4x1_3wyDXV3N9S4SoBY5_-QEUAEMP)\n",
        "\n",
        "We would like to find the minimum of this function as a function of w and b which will be the best possible approximator of a function from which believe that data is coming from, so it will fit the best to the data points."
      ]
    },
    {
      "cell_type": "markdown",
      "metadata": {
        "id": "MyfwaL10Xkf7"
      },
      "source": [
        "![](https://docs.google.com/uc?export=download&id=1nS6dFV4uv0n73jAi2HWCLhBnI5wuBCcN)![](https://docs.google.com/uc?export=download&id=1jnmPOnSd2CvXkeI26KDxAImzPOD1Tcyt)\n",
        "\n",
        "\n",
        "![](https://docs.google.com/uc?export=download&id=1N2CkOthniPqCTH2cpEUP4IBFz_GU6S8R)\n",
        "\n",
        "The error surface has quadratic form so the error shape has quadratic form as well.\n",
        "\n",
        "There could be several solutions to find the minimum of the surface.\n",
        "\n",
        "1) If the problem is so simple, then we can compute the minimum directly\n",
        "\n",
        "2) There could be a gradient search algorithm which estimates the gradient of the surface and at each iteration steps a bit towards the minimum. ( see figure )\n",
        "\n",
        "![image.png](data:image/png;base64,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)\n",
        "\n",
        "There are huge set of numeric search algorithms one can a use for this purpose. Even in Python one can choose from from a large set.\n",
        "But using this we will get the optimal value as:\n",
        "$$\n",
        "w_*, b_* = \\arg\\min_{w,b} L(w, b)\n",
        "$$\n"
      ]
    },
    {
      "cell_type": "markdown",
      "metadata": {
        "id": "Whhj-13WdCMR"
      },
      "source": [
        "# Logistic Regression"
      ]
    },
    {
      "cell_type": "markdown",
      "metadata": {
        "id": "YzWjB_lAdHQ7"
      },
      "source": [
        "Let’s introduce the sigmoid function.\n",
        "\n",
        "\n",
        "$$ y(x) = sigmoid(x) = \\frac{1}{1+exp(-x)} $$\n",
        "\n",
        "![](https://docs.google.com/uc?export=download&id=1P-VPhK2MHXV1RP1WyT-rHTyxxVUlJQ20)\n",
        "\n",
        "Adding this function to the output of the linear approximator function will turn our model to return something in between 0 and 1 and this model is called Logistic Regression. See next figure.\n",
        "\n",
        "![image.png](data:image/png;base64,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)\n",
        "\n",
        "\n",
        "\n",
        "Figure: concatenated linear mixture model with a Sigmoid function.\n",
        "\n",
        "Let’s see some data to which we can fit this predictor in 1 dimension:\n",
        "\n",
        "![](https://docs.google.com/uc?export=download&id=1P2dHQcmQE3H-re13KBck0dkGTvqdsEg0)\n",
        "\n",
        "Let’s see how the loss surface looks like for this logistic predictor.\n",
        "\n",
        "![](https://docs.google.com/uc?export=download&id=1ULp0B09WEV1y3sIRAJHF5ATQy9wVkPQZ)![](https://docs.google.com/uc?export=download&id=1bbbSvAFrOVxpMIvwkjTvUvXHpWrzYT2l)\n",
        "\n",
        "![](https://docs.google.com/uc?export=download&id=1sT3rVsblJSCKO_p5gqKAUYf0dsogOnFR)\n",
        "\n",
        "As you can see, the surface is not quadratic anymore but finding minima is still possible by using gradients, although it can have multiple dreadful local minima as well.\n",
        "\n",
        "![](https://docs.google.com/uc?export=download&id=1oPmcxzpa4Het7toOipne-FIjwRpnLmO0)\n",
        "\n",
        "It is also worth having a look at how difficult it was for the search algorithms to find the minima on the surface above starting from w=0, and b=0.\n",
        "\n",
        "![](https://docs.google.com/uc?export=download&id=18qlTa5tzbYLKCf6IVjH8mwzmiJneay2M)![](https://docs.google.com/uc?export=download&id=1Bv1DFpDKZnc8P_oRxQTZ_ZoSSunRhYS6)\n",
        "\n",
        "So, this way, we can build a very simple 1 or multi dimensional classificator, although it has a limit capability only i.e. can separate only linearly separable data sets.\n",
        "\n",
        "![](https://docs.google.com/uc?export=download&id=1nqC7PbaO_hZW8fwA0SA8HMNcOfFWGjNY)\n",
        "\n",
        "The following Python code will do a simple Logistic Regression model to a 4 sample data points with 2 features.\n",
        "\n"
      ]
    },
    {
      "cell_type": "code",
      "metadata": {
        "id": "As7KDTAInyeT",
        "outputId": "c81b8315-9e0f-4726-adbd-1129bc5809d8",
        "colab": {
          "base_uri": "https://localhost:8080/",
          "height": 34
        }
      },
      "source": [
        "from sklearn.datasets import load_iris\n",
        "from sklearn.linear_model import LogisticRegression\n",
        "\n",
        "X = [[0, 0], \n",
        "     [0, 1],\n",
        "     [1, 0],\n",
        "     [1, 1]]\n",
        "y = [0, 0, 1, 1]\n",
        "\n",
        "clf = LogisticRegression(random_state=0).fit(X, y)\n",
        "\n",
        "clf.decision_function(X)"
      ],
      "execution_count": null,
      "outputs": [
        {
          "output_type": "execute_result",
          "data": {
            "text/plain": [
              "array([-0.40105573, -0.40106044,  0.40105414,  0.40104942])"
            ]
          },
          "metadata": {
            "tags": []
          },
          "execution_count": 14
        }
      ]
    },
    {
      "cell_type": "markdown",
      "metadata": {
        "id": "DzK3NVz_ew9y"
      },
      "source": [
        "# Support Vector Machines"
      ]
    },
    {
      "cell_type": "markdown",
      "metadata": {
        "id": "3p8yMEYaezz3"
      },
      "source": [
        "Support vector machines try to find a hyper plane in between two classes the hyperplane represents the largest separation, or margin, between the two classes.\n",
        "\n",
        "![](https://docs.google.com/uc?export=download&id=1talRYK8-64eQFPnYCHlOdPK1zzDye3Y6)\n",
        "\n",
        "The form the predictor is\n",
        "\n",
        "$$\n",
        "y_{pred} = w^T * x – b\n",
        "$$\n",
        "\n",
        "One can formalize the loss function in multiple dimensions for the problem as\n",
        "\n",
        "$$loss =[\\frac{1}{n}\\sum_n\\max(0, 1 – y_i( w \\cdot x – b ))] + \\lambda ||w||^2$$\n",
        "\n",
        "where $y_i$ labels are assumed to be $-1$ or $1$.\n",
        "\n",
        "$w$ is 2 dimensional in dimension and is the norm of the hyper-plane we are searching for.\n",
        "\n",
        "$b$ is a scalar shift value\n",
        "\n",
        "$\\lambda$ is a regularizer.\n",
        "\n",
        "Regularization term is responsible for preferring solutions which are closer to zero. One can switch it off by setting $\\lambda = 0$\n",
        "\n",
        "By using exactly the same search method as before one can get an optima.\n",
        "\n",
        "![](https://docs.google.com/uc?export=download&id=1D0u9PM4571jwiqrTQZvSwkHF1jXwbA9y)\n",
        "\n",
        "In order to solve non linearly separable problems with SVM, kernels are used.\n",
        "A kernel simply maps the problem another space using non-linear mapping and this new space the problem gets linear and can be solved by the problem explained above for example.\n",
        "\n",
        "\n"
      ]
    },
    {
      "cell_type": "code",
      "metadata": {
        "id": "E9Zv0he_mYJ0",
        "outputId": "ffb3c3f1-38f9-41af-fe13-e4aa6d340a31",
        "colab": {
          "base_uri": "https://localhost:8080/",
          "height": 34
        }
      },
      "source": [
        "from sklearn import svm\n",
        "\n",
        "lin_clf = svm.LinearSVC()\n",
        "lin_clf.fit(X, y)\n",
        "dec = lin_clf.decision_function([[0.8, 0.7]])\n",
        "dec"
      ],
      "execution_count": null,
      "outputs": [
        {
          "output_type": "execute_result",
          "data": {
            "text/plain": [
              "array([0.42151478])"
            ]
          },
          "metadata": {
            "tags": []
          },
          "execution_count": 8
        }
      ]
    },
    {
      "cell_type": "code",
      "metadata": {
        "id": "sPrAXQ4lm2mu"
      },
      "source": [
        ""
      ],
      "execution_count": null,
      "outputs": []
    }
  ]
}